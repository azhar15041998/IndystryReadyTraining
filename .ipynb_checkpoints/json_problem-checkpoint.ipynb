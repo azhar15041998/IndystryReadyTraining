{
 "cells": [
  {
   "cell_type": "code",
   "execution_count": 4,
   "id": "b4604d69",
   "metadata": {
    "scrolled": true
   },
   "outputs": [
    {
     "name": "stdout",
     "output_type": "stream",
     "text": [
      "Appetizers\n",
      "Beverages\n",
      "Salads & Soups\n",
      "Entrees *\n",
      "Desserts\n",
      "Kids\n",
      "Oxford Menu\n",
      "DRINKS\n",
      "FOOD\n",
      "PIZZA\n",
      "Catering\n",
      "FISH\n"
     ]
    }
   ],
   "source": [
    "# Q1) Print all names of the categories in the menu ?\n",
    "\n",
    "import json\n",
    "with open(\"Menu_items.json\") as f:\n",
    "    s = f.read()\n",
    "    d = json.loads(s)\n",
    "\n",
    "for cat in d:\n",
    "    print(cat['name'])"
   ]
  },
  {
   "cell_type": "code",
   "execution_count": null,
   "id": "f88313d0",
   "metadata": {},
   "outputs": [],
   "source": []
  },
  {
   "cell_type": "code",
   "execution_count": 5,
   "id": "fe62e235",
   "metadata": {
    "scrolled": true
   },
   "outputs": [
    {
     "name": "stdout",
     "output_type": "stream",
     "text": [
      "Appetizers Blooming Onion\n",
      "Appetizers Buff Chkn Eggrolls\n",
      "Appetizers Buffalo Chkn Dip\n",
      "Appetizers Chicken Wings\n",
      "Appetizers Chili Bowl\n",
      "Appetizers Chips & Salsa\n",
      "Appetizers Chkn Quesadilla\n",
      "Appetizers Chkn Tender Bskt\n",
      "Appetizers Fried Mushrooms\n",
      "Appetizers Fried Pickles\n",
      "Appetizers Loaded Cheese Fries\n",
      "Appetizers Loaded Potato Skins\n",
      "Appetizers Mozzarella Sticks\n",
      "Appetizers Nachos\n",
      "Appetizers Spinach Artichoke Dip\n",
      "Appetizers Stuffed Banana Peppers\n",
      "Beverages None\n",
      "Salads & Soups Apple Cran Salad\n",
      "Salads & Soups Caesar Salad\n",
      "Salads & Soups Caprese Salad\n",
      "Salads & Soups Chowder      Cup\n",
      "Salads & Soups Chowder     Bowl\n",
      "Salads & Soups Crock Chili\n",
      "Salads & Soups French Onion      Bowl\n",
      "Salads & Soups French Onion     Cup\n",
      "Salads & Soups Mixed Green Salad\n",
      "Salads & Soups Soup o Day             Cup\n",
      "Salads & Soups Soup o Day       Bowl\n",
      "Salads & Soups Steak Salad\n",
      "Salads & Soups Turkey Cobb Salad\n",
      "Entrees * None\n",
      "Desserts Carrot Cake\n",
      "Desserts Ice Cream Sundae\n",
      "Desserts NY Cheesecake\n",
      "Kids Chicken Fingers\n",
      "Kids Grilled Cheese\n",
      "Kids Kid Cheeseburger\n",
      "Kids Kids Mac N Cheese\n",
      "Oxford Menu None\n",
      "DRINKS None\n",
      "FOOD SANDWICHES\n",
      "PIZZA None\n",
      "Catering None\n",
      "FISH Chili Cup\n"
     ]
    }
   ],
   "source": [
    "#Q2) Check whether menu-items present or not in the categories ?\n",
    "\n",
    "import json\n",
    "with open(\"menu_items.json\") as f:\n",
    "    s = f.read()\n",
    "    d = json.loads(s)\n",
    "\n",
    "for cat in d:\n",
    "    items = cat[\"menuItems\"]\n",
    "    if items:\n",
    "        for item in items:\n",
    "            print(cat[\"name\"], item['name'])\n",
    "    else: print(cat[\"name\"], items)"
   ]
  },
  {
   "cell_type": "code",
   "execution_count": 23,
   "id": "49c2b0c1",
   "metadata": {
    "scrolled": true
   },
   "outputs": [
    {
     "ename": "KeyError",
     "evalue": "'subCategory'",
     "output_type": "error",
     "traceback": [
      "\u001b[1;31m---------------------------------------------------------------------------\u001b[0m",
      "\u001b[1;31mKeyError\u001b[0m                                  Traceback (most recent call last)",
      "\u001b[1;32m~\\AppData\\Local\\Temp/ipykernel_11076/2382366755.py\u001b[0m in \u001b[0;36m<module>\u001b[1;34m\u001b[0m\n\u001b[0;32m      6\u001b[0m \u001b[1;33m\u001b[0m\u001b[0m\n\u001b[0;32m      7\u001b[0m \u001b[1;32mfor\u001b[0m \u001b[0mcat\u001b[0m \u001b[1;32min\u001b[0m \u001b[0md\u001b[0m\u001b[1;33m:\u001b[0m\u001b[1;33m\u001b[0m\u001b[1;33m\u001b[0m\u001b[0m\n\u001b[1;32m----> 8\u001b[1;33m     \u001b[0mitems\u001b[0m \u001b[1;33m=\u001b[0m \u001b[0mcat\u001b[0m\u001b[1;33m[\u001b[0m\u001b[1;34m\"subCategory\"\u001b[0m\u001b[1;33m]\u001b[0m\u001b[1;33m\u001b[0m\u001b[1;33m\u001b[0m\u001b[0m\n\u001b[0m\u001b[0;32m      9\u001b[0m     \u001b[1;32mif\u001b[0m \u001b[0mitems\u001b[0m\u001b[1;33m:\u001b[0m\u001b[1;33m\u001b[0m\u001b[1;33m\u001b[0m\u001b[0m\n\u001b[0;32m     10\u001b[0m         \u001b[1;32mfor\u001b[0m \u001b[0mitem\u001b[0m \u001b[1;32min\u001b[0m \u001b[0mitems\u001b[0m\u001b[1;33m:\u001b[0m\u001b[1;33m\u001b[0m\u001b[1;33m\u001b[0m\u001b[0m\n",
      "\u001b[1;31mKeyError\u001b[0m: 'subCategory'"
     ]
    }
   ],
   "source": [
    "#Q3) Check whether the sub-categories present or not in the menu ? subCategory\n",
    "import json\n",
    "with open(\"menu_items.json\") as f:\n",
    "    s = f.read()\n",
    "    d = json.loads(s)\n",
    "\n",
    "for cat in d:\n",
    "    items = cat[\"menuItems\"]\n",
    "    if items:\n",
    "        for item in items:\n",
    "            print(cat[\"name\"], item['name'])\n",
    "    else: print(cat[\"name\"], items)"
   ]
  },
  {
   "cell_type": "code",
   "execution_count": null,
   "id": "0e081661",
   "metadata": {},
   "outputs": [],
   "source": []
  }
 ],
 "metadata": {
  "kernelspec": {
   "display_name": "Python 3 (ipykernel)",
   "language": "python",
   "name": "python3"
  },
  "language_info": {
   "codemirror_mode": {
    "name": "ipython",
    "version": 3
   },
   "file_extension": ".py",
   "mimetype": "text/x-python",
   "name": "python",
   "nbconvert_exporter": "python",
   "pygments_lexer": "ipython3",
   "version": "3.9.7"
  }
 },
 "nbformat": 4,
 "nbformat_minor": 5
}
